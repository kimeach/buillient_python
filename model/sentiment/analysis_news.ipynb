{
 "cells": [
  {
   "cell_type": "code",
   "execution_count": 12,
   "id": "dfc0540c",
   "metadata": {},
   "outputs": [
    {
     "name": "stderr",
     "output_type": "stream",
     "text": [
      "Device set to use cuda:0\n",
      "Device set to use cuda:0\n"
     ]
    },
    {
     "name": "stdout",
     "output_type": "stream",
     "text": [
      "                                                  원문  \\\n",
      "0  삼성전자가 엔비디아와의 납품 계약을 체결하여 상반기 매출이 전년보다 200% 상승할...   \n",
      "1                     ncsoft의 올해 게임들이 연이어 실패하고 있습니다.   \n",
      "2                      배달의민족의 배달수수료가 올해 5퍼센트 상승했습니다.   \n",
      "\n",
      "                                                  번역        감성      점수  추천  \n",
      "0  The Third Templer has signed a deal with Envid...  positive  0.9505  매수  \n",
      "1            The ncsoft games are failing this year.  negative  0.9569   -  \n",
      "2  The people's delivery fee has risen by five pe...  positive  0.9352  매수  \n"
     ]
    }
   ],
   "source": [
    "from transformers import pipeline\n",
    "import pandas as pd\n",
    "\n",
    "# 1. 번역기 파이프라인 (한국어 → 영어)\n",
    "translator = pipeline(\"translation\", model=\"Helsinki-NLP/opus-mt-ko-en\")\n",
    "\n",
    "# 2. FinBERT 감성 분석기\n",
    "finbert = pipeline(\"sentiment-analysis\", model=\"ProsusAI/finbert\")\n",
    "\n",
    "# 3. 한국어 뉴스 목록\n",
    "news = [\n",
    "    \"삼성전자가 엔비디아와의 납품 계약을 체결하여 상반기 매출이 전년보다 200% 상승할 것으로 예상합니다.\",\n",
    "    \"ncsoft의 올해 게임들이 연이어 실패하고 있습니다.\",\n",
    "    \"배달의민족의 배달수수료가 올해 5퍼센트 상승했습니다.\"\n",
    "]\n",
    "\n",
    "# 4. 번역 수행\n",
    "translated_news = [translator(n)[0]['translation_text'] for n in news]\n",
    "\n",
    "# 5. 감성 분석\n",
    "results = finbert(translated_news)\n",
    "\n",
    "# 6. 결과 정리\n",
    "df = pd.DataFrame({\n",
    "    \"원문\": news,\n",
    "    \"번역\": translated_news,\n",
    "    \"감성\": [r['label'] for r in results],\n",
    "    \"점수\": [round(r['score'], 4) for r in results]\n",
    "})\n",
    "\n",
    "# 7. 매수 여부 판단 (positive + 점수 >= 0.9)\n",
    "def recommend(label, score):\n",
    "    return \"매수\" if label == \"positive\" and score >= 0.9 else \"-\"\n",
    "\n",
    "df[\"추천\"] = df.apply(lambda row: recommend(row[\"감성\"], row[\"점수\"]), axis=1)\n",
    "\n",
    "print(df)\n"
   ]
  }
 ],
 "metadata": {
  "kernelspec": {
   "display_name": "llm",
   "language": "python",
   "name": "python3"
  },
  "language_info": {
   "codemirror_mode": {
    "name": "ipython",
    "version": 3
   },
   "file_extension": ".py",
   "mimetype": "text/x-python",
   "name": "python",
   "nbconvert_exporter": "python",
   "pygments_lexer": "ipython3",
   "version": "3.10.18"
  }
 },
 "nbformat": 4,
 "nbformat_minor": 5
}
